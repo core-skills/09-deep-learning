{
 "cells": [
  {
   "cell_type": "markdown",
   "metadata": {},
   "source": [
    "# Quality Prediction in a Mining Process by using RNN\n",
    "\n",
    "In this notebook, we are going to predict how much impurity is in the ore concentrate. As this impurity is measured every hour, if we can predict how much silica (impurity) is in the ore concentrate, we can help the engineers, giving them early information to take actions. Hence, they will be able to take corrective actions in advance (reduce impurity, if it is the case) and also help the environment (reducing the amount of ore that goes to tailings as you reduce silica in the ore concentrate). To this end, we are going to use the dataset **Quality Prediction in a Mining Process Data** from [Kaggle](https://www.kaggle.com/edumagalhaes/quality-prediction-in-a-mining-process/home). \n",
    "\n",
    "In order to have a clean notebook, some functions are implemented in the file *utils.py* (e.g., plot_loss_and_accuracy). \n",
    "\n",
    "Summary:\n",
    " - [Data Pre-processing](#data_preprocessing)\n",
    "     - [Data Visualisation](#data_viz)\n",
    "     - [Data Normalisation](#normalisation)\n",
    " - [Building the Models](#models)\n",
    "     - [Splitting the Data into Train and Test Sets](#split)\n",
    "     - [Gated Recurrent Unit (GRU)](#gru)\n",
    "     - [Long-short Term Memory (LSTM)](#lstm)\n",
    "  \n",
    "__All the libraries used in this notebook are <font color='red'>Open Source</font>__."
   ]
  },
  {
   "cell_type": "code",
   "execution_count": 1,
   "metadata": {},
   "outputs": [
    {
     "name": "stderr",
     "output_type": "stream",
     "text": [
      "Using TensorFlow backend.\n"
     ]
    }
   ],
   "source": [
    "# Standard libraries - no deep learning yet\n",
    "import numpy as np # written in C, is faster and robust library for numerical and matrix operations\n",
    "import pandas as pd # data manipulation library, it is widely used for data analysis and relies on numpy library.\n",
    "import matplotlib.pyplot as plt # for plotting\n",
    "from datetime import datetime # supplies classes for manipulating dates and times in both simple and complex ways\n",
    "\n",
    "from utils import *\n",
    "\n",
    "# the following to lines will tell to the python kernel to alway update the kernel for every utils.py\n",
    "# modification, without the need of restarting the kernel.\n",
    "# Of course, for every motification in util.py, we need to reload this cell\n",
    "%load_ext autoreload\n",
    "%autoreload 2\n",
    "%matplotlib inline"
   ]
  },
  {
   "cell_type": "markdown",
   "metadata": {},
   "source": [
    "## Data Pre-processing\n",
    "<a id='data_preprocessing'></a>\n",
    "\n",
    "**First download the dataset (click [here](https://www.kaggle.com/edumagalhaes/quality-prediction-in-a-mining-process/download)) unzip quality-prediction-in-a-mining-process.zip**\n",
    "\n",
    "The **Quality Prediction in a Mining Process Data** includes ([Kaggle](https://www.kaggle.com/edumagalhaes/quality-prediction-in-a-mining-process/home)):\n",
    "\n",
    " - The first column shows time and date range (from march of 2017 until september of 2017). Some columns were sampled every 20 second. Others were sampled on a hourly base. *This make the data processing harder, however, for this tutorial we will not re-sample the data*.\n",
    " - The second and third columns are quality measures of the iron ore pulp right before it is fed into the flotation plant. \n",
    " - Column 4 until column 8 are the most important variables that impact in the ore quality in the end of the process. \n",
    " - Column 9 until column 22, we can see process data level and air flow inside the flotation columns, which also impact in ore quality. \n",
    " - The last two columns are the final iron ore pulp quality measurement from the lab. Target is to predict the last column, which is the % of silica in the iron ore concentrate.\n",
    "\n",
    "\n",
    "We are going to use [Pandas](https://pandas.pydata.org/) for the data processing. The function  [read_csv](https://pandas.pydata.org/pandas-docs/stable/generated/pandas.read_csv.html) is going to be used to read the csv file."
   ]
  },
  {
   "cell_type": "code",
   "execution_count": 2,
   "metadata": {},
   "outputs": [
    {
     "data": {
      "text/html": [
       "<div>\n",
       "<style scoped>\n",
       "    .dataframe tbody tr th:only-of-type {\n",
       "        vertical-align: middle;\n",
       "    }\n",
       "\n",
       "    .dataframe tbody tr th {\n",
       "        vertical-align: top;\n",
       "    }\n",
       "\n",
       "    .dataframe thead th {\n",
       "        text-align: right;\n",
       "    }\n",
       "</style>\n",
       "<table border=\"1\" class=\"dataframe\">\n",
       "  <thead>\n",
       "    <tr style=\"text-align: right;\">\n",
       "      <th></th>\n",
       "      <th>% Iron Feed</th>\n",
       "      <th>% Silica Feed</th>\n",
       "      <th>Starch Flow</th>\n",
       "      <th>Amina Flow</th>\n",
       "      <th>Ore Pulp Flow</th>\n",
       "      <th>Ore Pulp pH</th>\n",
       "      <th>Ore Pulp Density</th>\n",
       "      <th>Flotation Column 01 Air Flow</th>\n",
       "      <th>Flotation Column 02 Air Flow</th>\n",
       "      <th>Flotation Column 03 Air Flow</th>\n",
       "      <th>...</th>\n",
       "      <th>Flotation Column 07 Air Flow</th>\n",
       "      <th>Flotation Column 01 Level</th>\n",
       "      <th>Flotation Column 02 Level</th>\n",
       "      <th>Flotation Column 03 Level</th>\n",
       "      <th>Flotation Column 04 Level</th>\n",
       "      <th>Flotation Column 05 Level</th>\n",
       "      <th>Flotation Column 06 Level</th>\n",
       "      <th>Flotation Column 07 Level</th>\n",
       "      <th>% Iron Concentrate</th>\n",
       "      <th>% Silica Concentrate</th>\n",
       "    </tr>\n",
       "    <tr>\n",
       "      <th>date</th>\n",
       "      <th></th>\n",
       "      <th></th>\n",
       "      <th></th>\n",
       "      <th></th>\n",
       "      <th></th>\n",
       "      <th></th>\n",
       "      <th></th>\n",
       "      <th></th>\n",
       "      <th></th>\n",
       "      <th></th>\n",
       "      <th></th>\n",
       "      <th></th>\n",
       "      <th></th>\n",
       "      <th></th>\n",
       "      <th></th>\n",
       "      <th></th>\n",
       "      <th></th>\n",
       "      <th></th>\n",
       "      <th></th>\n",
       "      <th></th>\n",
       "      <th></th>\n",
       "    </tr>\n",
       "  </thead>\n",
       "  <tbody>\n",
       "    <tr>\n",
       "      <th>2017-03-10 01:00:00</th>\n",
       "      <td>55.2</td>\n",
       "      <td>16.98</td>\n",
       "      <td>3019.53</td>\n",
       "      <td>557.434</td>\n",
       "      <td>395.713</td>\n",
       "      <td>10.0664</td>\n",
       "      <td>1.74</td>\n",
       "      <td>249.214</td>\n",
       "      <td>253.235</td>\n",
       "      <td>250.576</td>\n",
       "      <td>...</td>\n",
       "      <td>250.884</td>\n",
       "      <td>457.396</td>\n",
       "      <td>432.962</td>\n",
       "      <td>424.954</td>\n",
       "      <td>443.558</td>\n",
       "      <td>502.255</td>\n",
       "      <td>446.370</td>\n",
       "      <td>523.344</td>\n",
       "      <td>66.91</td>\n",
       "      <td>1.31</td>\n",
       "    </tr>\n",
       "    <tr>\n",
       "      <th>2017-03-10 01:00:00</th>\n",
       "      <td>55.2</td>\n",
       "      <td>16.98</td>\n",
       "      <td>3024.41</td>\n",
       "      <td>563.965</td>\n",
       "      <td>397.383</td>\n",
       "      <td>10.0672</td>\n",
       "      <td>1.74</td>\n",
       "      <td>249.719</td>\n",
       "      <td>250.532</td>\n",
       "      <td>250.862</td>\n",
       "      <td>...</td>\n",
       "      <td>248.994</td>\n",
       "      <td>451.891</td>\n",
       "      <td>429.560</td>\n",
       "      <td>432.939</td>\n",
       "      <td>448.086</td>\n",
       "      <td>496.363</td>\n",
       "      <td>445.922</td>\n",
       "      <td>498.075</td>\n",
       "      <td>66.91</td>\n",
       "      <td>1.31</td>\n",
       "    </tr>\n",
       "    <tr>\n",
       "      <th>2017-03-10 01:00:00</th>\n",
       "      <td>55.2</td>\n",
       "      <td>16.98</td>\n",
       "      <td>3043.46</td>\n",
       "      <td>568.054</td>\n",
       "      <td>399.668</td>\n",
       "      <td>10.0680</td>\n",
       "      <td>1.74</td>\n",
       "      <td>249.741</td>\n",
       "      <td>247.874</td>\n",
       "      <td>250.313</td>\n",
       "      <td>...</td>\n",
       "      <td>248.071</td>\n",
       "      <td>451.240</td>\n",
       "      <td>468.927</td>\n",
       "      <td>434.610</td>\n",
       "      <td>449.688</td>\n",
       "      <td>484.411</td>\n",
       "      <td>447.826</td>\n",
       "      <td>458.567</td>\n",
       "      <td>66.91</td>\n",
       "      <td>1.31</td>\n",
       "    </tr>\n",
       "    <tr>\n",
       "      <th>2017-03-10 01:00:00</th>\n",
       "      <td>55.2</td>\n",
       "      <td>16.98</td>\n",
       "      <td>3047.36</td>\n",
       "      <td>568.665</td>\n",
       "      <td>397.939</td>\n",
       "      <td>10.0689</td>\n",
       "      <td>1.74</td>\n",
       "      <td>249.917</td>\n",
       "      <td>254.487</td>\n",
       "      <td>250.049</td>\n",
       "      <td>...</td>\n",
       "      <td>251.147</td>\n",
       "      <td>452.441</td>\n",
       "      <td>458.165</td>\n",
       "      <td>442.865</td>\n",
       "      <td>446.210</td>\n",
       "      <td>471.411</td>\n",
       "      <td>437.690</td>\n",
       "      <td>427.669</td>\n",
       "      <td>66.91</td>\n",
       "      <td>1.31</td>\n",
       "    </tr>\n",
       "    <tr>\n",
       "      <th>2017-03-10 01:00:00</th>\n",
       "      <td>55.2</td>\n",
       "      <td>16.98</td>\n",
       "      <td>3033.69</td>\n",
       "      <td>558.167</td>\n",
       "      <td>400.254</td>\n",
       "      <td>10.0697</td>\n",
       "      <td>1.74</td>\n",
       "      <td>250.203</td>\n",
       "      <td>252.136</td>\n",
       "      <td>249.895</td>\n",
       "      <td>...</td>\n",
       "      <td>248.928</td>\n",
       "      <td>452.441</td>\n",
       "      <td>452.900</td>\n",
       "      <td>450.523</td>\n",
       "      <td>453.670</td>\n",
       "      <td>462.598</td>\n",
       "      <td>443.682</td>\n",
       "      <td>425.679</td>\n",
       "      <td>66.91</td>\n",
       "      <td>1.31</td>\n",
       "    </tr>\n",
       "  </tbody>\n",
       "</table>\n",
       "<p>5 rows × 23 columns</p>\n",
       "</div>"
      ],
      "text/plain": [
       "                     % Iron Feed  % Silica Feed  Starch Flow  Amina Flow  \\\n",
       "date                                                                       \n",
       "2017-03-10 01:00:00         55.2          16.98      3019.53     557.434   \n",
       "2017-03-10 01:00:00         55.2          16.98      3024.41     563.965   \n",
       "2017-03-10 01:00:00         55.2          16.98      3043.46     568.054   \n",
       "2017-03-10 01:00:00         55.2          16.98      3047.36     568.665   \n",
       "2017-03-10 01:00:00         55.2          16.98      3033.69     558.167   \n",
       "\n",
       "                     Ore Pulp Flow  Ore Pulp pH  Ore Pulp Density  \\\n",
       "date                                                                \n",
       "2017-03-10 01:00:00        395.713      10.0664              1.74   \n",
       "2017-03-10 01:00:00        397.383      10.0672              1.74   \n",
       "2017-03-10 01:00:00        399.668      10.0680              1.74   \n",
       "2017-03-10 01:00:00        397.939      10.0689              1.74   \n",
       "2017-03-10 01:00:00        400.254      10.0697              1.74   \n",
       "\n",
       "                     Flotation Column 01 Air Flow  \\\n",
       "date                                                \n",
       "2017-03-10 01:00:00                       249.214   \n",
       "2017-03-10 01:00:00                       249.719   \n",
       "2017-03-10 01:00:00                       249.741   \n",
       "2017-03-10 01:00:00                       249.917   \n",
       "2017-03-10 01:00:00                       250.203   \n",
       "\n",
       "                     Flotation Column 02 Air Flow  \\\n",
       "date                                                \n",
       "2017-03-10 01:00:00                       253.235   \n",
       "2017-03-10 01:00:00                       250.532   \n",
       "2017-03-10 01:00:00                       247.874   \n",
       "2017-03-10 01:00:00                       254.487   \n",
       "2017-03-10 01:00:00                       252.136   \n",
       "\n",
       "                     Flotation Column 03 Air Flow  ...  \\\n",
       "date                                               ...   \n",
       "2017-03-10 01:00:00                       250.576  ...   \n",
       "2017-03-10 01:00:00                       250.862  ...   \n",
       "2017-03-10 01:00:00                       250.313  ...   \n",
       "2017-03-10 01:00:00                       250.049  ...   \n",
       "2017-03-10 01:00:00                       249.895  ...   \n",
       "\n",
       "                     Flotation Column 07 Air Flow  Flotation Column 01 Level  \\\n",
       "date                                                                           \n",
       "2017-03-10 01:00:00                       250.884                    457.396   \n",
       "2017-03-10 01:00:00                       248.994                    451.891   \n",
       "2017-03-10 01:00:00                       248.071                    451.240   \n",
       "2017-03-10 01:00:00                       251.147                    452.441   \n",
       "2017-03-10 01:00:00                       248.928                    452.441   \n",
       "\n",
       "                     Flotation Column 02 Level  Flotation Column 03 Level  \\\n",
       "date                                                                        \n",
       "2017-03-10 01:00:00                    432.962                    424.954   \n",
       "2017-03-10 01:00:00                    429.560                    432.939   \n",
       "2017-03-10 01:00:00                    468.927                    434.610   \n",
       "2017-03-10 01:00:00                    458.165                    442.865   \n",
       "2017-03-10 01:00:00                    452.900                    450.523   \n",
       "\n",
       "                     Flotation Column 04 Level  Flotation Column 05 Level  \\\n",
       "date                                                                        \n",
       "2017-03-10 01:00:00                    443.558                    502.255   \n",
       "2017-03-10 01:00:00                    448.086                    496.363   \n",
       "2017-03-10 01:00:00                    449.688                    484.411   \n",
       "2017-03-10 01:00:00                    446.210                    471.411   \n",
       "2017-03-10 01:00:00                    453.670                    462.598   \n",
       "\n",
       "                     Flotation Column 06 Level  Flotation Column 07 Level  \\\n",
       "date                                                                        \n",
       "2017-03-10 01:00:00                    446.370                    523.344   \n",
       "2017-03-10 01:00:00                    445.922                    498.075   \n",
       "2017-03-10 01:00:00                    447.826                    458.567   \n",
       "2017-03-10 01:00:00                    437.690                    427.669   \n",
       "2017-03-10 01:00:00                    443.682                    425.679   \n",
       "\n",
       "                     % Iron Concentrate  % Silica Concentrate  \n",
       "date                                                           \n",
       "2017-03-10 01:00:00               66.91                  1.31  \n",
       "2017-03-10 01:00:00               66.91                  1.31  \n",
       "2017-03-10 01:00:00               66.91                  1.31  \n",
       "2017-03-10 01:00:00               66.91                  1.31  \n",
       "2017-03-10 01:00:00               66.91                  1.31  \n",
       "\n",
       "[5 rows x 23 columns]"
      ]
     },
     "execution_count": 2,
     "metadata": {},
     "output_type": "execute_result"
    }
   ],
   "source": [
    "dataset = pd.read_csv('../data/MiningProcess_Flotation_Plant_Database.csv',index_col=0, decimal=\",\")\n",
    "\n",
    "# Set the index name to 'date'\n",
    "dataset.index.name = 'date'\n",
    "\n",
    "dataset.head()"
   ]
  },
  {
   "cell_type": "markdown",
   "metadata": {},
   "source": [
    "Given our time and computational resources restrictions, we are going to select the first 100,000 observations for this tutorial."
   ]
  },
  {
   "cell_type": "code",
   "execution_count": 3,
   "metadata": {},
   "outputs": [],
   "source": [
    "dataset = dataset.iloc[:100000,:]"
   ]
  },
  {
   "cell_type": "markdown",
   "metadata": {},
   "source": [
    "### Data Visualisation\n",
    "<a id='data_viz'></a>"
   ]
  },
  {
   "cell_type": "code",
   "execution_count": 4,
   "metadata": {},
   "outputs": [
    {
     "data": {
      "text/plain": [
       "<AxesSubplot:xlabel='date', ylabel='Silica Concentrate'>"
      ]
     },
     "execution_count": 4,
     "metadata": {},
     "output_type": "execute_result"
    },
    {
     "data": {
      "image/png": "[encoded data removed]",
      "text/plain": [
       "<Figure size 1080x360 with 1 Axes>"
      ]
     },
     "metadata": {
      "needs_background": "light"
     },
     "output_type": "display_data"
    }
   ],
   "source": [
    "# Ploting the Silica Concentrate\n",
    "plt.figure(figsize = (15, 5))\n",
    "plt.xlabel(\"x\")\n",
    "plt.ylabel(\"Silica Concentrate\")\n",
    "\n",
    "dataset['% Silica Concentrate'].plot()"
   ]
  },
  {
   "cell_type": "markdown",
   "metadata": {},
   "source": [
    "## Data Normalisation\n",
    "<a id='normalisation'></a>\n",
    "\n",
    "Here are going to normalise all the features and transform the data into a supervised learning problem. The features to be predicted are removed, as we would like to predict just the *Silica Concentrate* (last element in every feature array).\n",
    "\n",
    "### Transforming the data into a supervised learning problem\n",
    "\n",
    "This step will involve framing the dataset as a **supervised learning problem**. As we would like to predict the \"silica concentrate\", we will set the corresponding column to be the output (label $y$).\n",
    "\n",
    "We would like to predict the silica concentrate ( $y_t$) at the current time ($t$) given the measurements at the prior time steps (lets say $t-1, t-2, \\dots t-n$, in which $n$ is the number of past observations to be used to forcast $y_t$).\n",
    "\n",
    "The function **create_window** (see _utils.py_) converts the time-series to a supervised learning problem. The new dataset is constructed as a **DataFrame**, with each column suitably named both by variable number and time step, for example, $var1(t-1)$ for **%Iron Feed** at the previous observation ($t-1$). This allows you to design a variety of different time step sequence type forecasting problems from a given univariate or multivariate time series."
   ]
  },
  {
   "cell_type": "code",
   "execution_count": 5,
   "metadata": {},
   "outputs": [
    {
     "name": "stdout",
     "output_type": "stream",
     "text": [
      "   var1(t-5)  var2(t-5)  var3(t-5)  var4(t-5)  var5(t-5)  var6(t-5)  \\\n",
      "5   0.476715   0.502299   0.483124   0.665398   0.459145   0.641907   \n",
      "\n",
      "   var7(t-5)  var8(t-5)  var9(t-5)  var10(t-5)  ...  var14(t)  var15(t)  \\\n",
      "5   0.660635   0.377486   0.432691      0.4025  ...  0.382131   0.41283   \n",
      "\n",
      "   var16(t)  var17(t)  var18(t)  var19(t)  var20(t)  var21(t)  var22(t)  \\\n",
      "5  0.375913    0.4394  0.535916  0.559504  0.511396  0.516056  0.875677   \n",
      "\n",
      "   var23(t)  \n",
      "5  0.114165  \n",
      "\n",
      "[1 rows x 138 columns]\n"
     ]
    }
   ],
   "source": [
    "# Scikit learn libraries\n",
    "from sklearn.preprocessing import MinMaxScaler #Allows normalisation\n",
    "\n",
    "# Convert the data to float\n",
    "values = dataset.values.astype('float32')\n",
    "\n",
    "# Normalise features\n",
    "scaler = MinMaxScaler(feature_range=(0, 1))\n",
    "scaled = scaler.fit_transform(values)\n",
    "\n",
    "# Specify the number of lag\n",
    "n_in = 5\n",
    "n_features = 23\n",
    "\n",
    "# Transform the time-series to a supervised learning problem representation\n",
    "reframed = create_window(scaled, n_in = n_in, n_out = 1, drop_nan = True)\n",
    "\n",
    "# Summarise the new frames (reframes) \n",
    "print(reframed.head(1))"
   ]
  },
  {
   "cell_type": "markdown",
   "metadata": {},
   "source": [
    "## Building the Models\n",
    "<a id='models'></a>\n",
    "So far, we just preprocessed the dataset. Now, we are going to build the following sequential models:\n",
    " \n",
    " - [Gated Recurrent Unit (GRU)](#gru)\n",
    " - [Long Short-Term Memory (LSTM)](#lstm)\n",
    " \n",
    "The models consists in a **many_to_one** architecture, in which the input is a **sequence** of the past observations and the output is the predicted value (in this case with dimension equal 1). "
   ]
  },
  {
   "cell_type": "code",
   "execution_count": 6,
   "metadata": {},
   "outputs": [],
   "source": [
    "from keras.models import Sequential\n",
    "from keras.layers import Dense, Dropout\n",
    "from keras.layers import LSTM, GRU\n",
    "\n",
    "from sklearn.metrics import mean_squared_error # allows compute the mean square error to performance analysis"
   ]
  },
  {
   "cell_type": "markdown",
   "metadata": {},
   "source": [
    "### Splitting the Data into Train and Test Sets\n",
    "<a id='split'></a>"
   ]
  },
  {
   "cell_type": "code",
   "execution_count": 7,
   "metadata": {},
   "outputs": [
    {
     "name": "stdout",
     "output_type": "stream",
     "text": [
      "Number of total features (n_obs):  115\n",
      "Number of samples in training set:  80000\n",
      "Number of samples in testing set:  19995\n"
     ]
    }
   ],
   "source": [
    "# split into train and test sets\n",
    "values = reframed.values\n",
    "\n",
    "# We will use 80% of the data for training and 20% for testing\n",
    "n_train = round(0.8 * dataset.shape[0])\n",
    "train = values[:n_train, :]\n",
    "test = values[n_train:, :]\n",
    "\n",
    "# Split into input and outputs\n",
    "n_obs = n_in * n_features # the number of total features is given by the number of past \n",
    "                          # observations * number of features. In this case we have\n",
    "                          # 5 past observations and 23 features, so the number of total \n",
    "                          # features is 115.\n",
    "x_train, y_train = train[:, :n_obs], train[:, n_features-1] # note that fore y_train, we are removing \n",
    "                                                             # just the last observation of the \n",
    "                                                             # silica concentrate\n",
    "x_test, y_test = test[:, :n_obs], test[:, n_features-1]\n",
    "print('Number of total features (n_obs): ', x_train.shape[1])\n",
    "print('Number of samples in training set: ', x_train.shape[0])\n",
    "print('Number of samples in testing set: ', x_test.shape[0])\n",
    "\n",
    "# Reshape input to be 3D [samples, timesteps, features]\n",
    "x_train = x_train.reshape((x_train.shape[0], n_in, n_features))\n",
    "x_test = x_test.reshape((x_test.shape[0], n_in, n_features))"
   ]
  },
  {
   "cell_type": "markdown",
   "metadata": {},
   "source": [
    "### Gated Recurrent Unit (GRU)\n",
    "<a id='gru'></a>\n",
    "\n",
    "To build the model, we are going use the following components from Keras:\n",
    "\n",
    " - [Sequencial](https://keras.io/models/sequential/): allows us to create models layer-by-layer. \n",
    " - [GRU](https://keras.io/layers/recurrent/): provides a GRU architecture\n",
    " - [Dense](https://keras.io/layers/core/): provides a regular fully-connected layer\n",
    " - [Activation](https://keras.io/activations/): defines the activation function to be used\n",
    "\n",
    "Basically, we can define the sequence of the model by using _Sequential()_:\n",
    "\n",
    "```python\n",
    "    model = Sequential()\n",
    "    model.add(GRU(...))\n",
    "    ...\n",
    "```\n",
    "where the function _add(...)_ that stack the layers. Once created the model, we can configure the training by using the function [compile](https://keras.io/models/model/). Here we need to define the [loss](https://keras.io/losses/) function (mean squared error, mean absolute error, cosine proximity, among others.) and the [optimizer](https://keras.io/optimizers/) (Stochastic gradient descent, RMSprop, adam, among others), as follows:\n",
    "\n",
    "```python\n",
    "    model.compile(loss = \"...\", \n",
    "                  optimizer = \"...\")\n",
    "```\n",
    "\n",
    "Also, we have the option to see a summary representation of the model by using the function [summary](https://keras.io/models/about-keras-models/#about-keras-models). This function summarises the model and tell us the number of parameters that we need to tune."
   ]
  },
  {
   "cell_type": "markdown",
   "metadata": {},
   "source": [
    "LLPS-2022-02-03: \n",
    "\n",
    "* the ```model_gru.add(GRU...``` below rises *\"NotImplementedError: Cannot convert a symbolic Tensor (gru_2/strided_slice:0) to a numpy array. This error may indicate that you're trying to pass a Tensor to a NumPy call, which is not supported\"\n",
    "\n",
    "* problem seems to be related to numpy version in this Docker image rio_cs_p1 haridoop/cs_p1:latest, which is '1.21.2'. LLPS ```np.__version__``` is '1.20.3' and works!\n",
    "\n",
    "* People report that TF was built with 'numpy ~= 1.19.2' so, thats the reason! REF: https://github.com/tensorflow/tensorflow/issues/47242"
   ]
  },
  {
   "cell_type": "code",
   "execution_count": 8,
   "metadata": {},
   "outputs": [
    {
     "data": {
      "text/plain": [
       "'1.20.3'"
      ]
     },
     "execution_count": 8,
     "metadata": {},
     "output_type": "execute_result"
    }
   ],
   "source": [
    "np.__version__"
   ]
  },
  {
   "cell_type": "code",
   "execution_count": 9,
   "metadata": {},
   "outputs": [
    {
     "name": "stdout",
     "output_type": "stream",
     "text": [
      "Model: \"sequential_1\"\n",
      "_________________________________________________________________\n",
      "Layer (type)                 Output Shape              Param #   \n",
      "=================================================================\n",
      "gru_1 (GRU)                  (None, 128)               58368     \n",
      "_________________________________________________________________\n",
      "dense_1 (Dense)              (None, 1)                 129       \n",
      "=================================================================\n",
      "Total params: 58,497\n",
      "Trainable params: 58,497\n",
      "Non-trainable params: 0\n",
      "_________________________________________________________________\n"
     ]
    }
   ],
   "source": [
    "# Define the model.\n",
    "model_gru = Sequential()\n",
    "\n",
    "# the input_shape is the number of past observations (n_in) and the number of features \n",
    "# per past observations (23)\n",
    "model_gru.add(GRU(input_shape=(x_train.shape[1], x_train.shape[2]), \n",
    "                        units = 128, \n",
    "                        return_sequences = False))\n",
    "\n",
    "model_gru.add(Dense(units=1)) \n",
    "\n",
    "# We compile the model by defining the mean absolute error (denoted by mae) as loss function and\n",
    "# adam as optimizer\n",
    "model_gru.compile(loss = \"mae\", \n",
    "                  optimizer = \"adam\")\n",
    "\n",
    "# just print the model\n",
    "model_gru.summary()"
   ]
  },
  {
   "cell_type": "markdown",
   "metadata": {},
   "source": [
    "### Training the Model\n",
    "<a id=train></a>\n",
    "\n",
    "Once defined the model, we need to train it by using the function [fit](https://keras.io/models/model/). This function performs the optmisation step. Hence, we can define the following parameters such as:\n",
    "\n",
    " - batch size: defines the number of samples that will be propagated through the network\n",
    " - epochs: defines the number of times in which all the training set (x_train_scaled) are used once to update the weights\n",
    " - validation split: defines the percentage of training data to be used for validation\n",
    " - among others (click [here](https://keras.io/models/model/) for more information)\n",
    " \n",
    "This function return the _history_ of the training, that can be used for further performance analysis."
   ]
  },
  {
   "cell_type": "code",
   "execution_count": null,
   "metadata": {},
   "outputs": [],
   "source": [
    "# Training\n",
    "hist_gru = model_gru.fit(x_train, y_train, \n",
    "                        epochs=50, \n",
    "                        batch_size=256, \n",
    "                        validation_split = 0.1,\n",
    "                        verbose=1, # To not print the output, set verbose=0\n",
    "                        shuffle=False) "
   ]
  },
  {
   "cell_type": "markdown",
   "metadata": {},
   "source": [
    "### Prediction and Performance Analysis\n",
    "<a id='performance_gru'></a>\n",
    "\n",
    "Here we can see if the model overfits or underfits. First, we are going to plot the 'loss' and the 'Accuracy' in from the training step."
   ]
  },
  {
   "cell_type": "code",
   "execution_count": null,
   "metadata": {},
   "outputs": [],
   "source": [
    "plot_loss(hist_gru)"
   ]
  },
  {
   "cell_type": "markdown",
   "metadata": {},
   "source": [
    "Once the model was trained, we can use the function [predict](https://keras.io/models/model/) for  prediction tasks. We are going to use the function **inverse_transform** (see _utils.py_) to invert the scaling (transform the values to the original ones).\n",
    "\n",
    "Given the predictions and expected values in their original scale, we can then compute the error score for the model."
   ]
  },
  {
   "cell_type": "code",
   "execution_count": null,
   "metadata": {},
   "outputs": [],
   "source": [
    "yhat_gru = model_gru.predict(x_test)\n",
    "\n",
    "# performing the inverse transform on test_X and yhat_rnn\n",
    "inv_y_gru, inv_yhat_gru = inverse_transform_multiple(x_test, y_test, yhat_gru, scaler, n_in, n_features)\n",
    "\n",
    "# calculate RMSE\n",
    "mse_gru = mean_squared_error(inv_y_gru, inv_yhat_gru)\n",
    "print('Test MSE: %.3f' % mse_gru)"
   ]
  },
  {
   "cell_type": "markdown",
   "metadata": {},
   "source": [
    "### Visualising the predicted Data"
   ]
  },
  {
   "cell_type": "code",
   "execution_count": null,
   "metadata": {},
   "outputs": [],
   "source": [
    "plot_comparison([inv_y_gru, inv_yhat_gru], \n",
    "                ['Test_Y value','Predicted Value'], \n",
    "                title='Prediction Comparison')"
   ]
  },
  {
   "cell_type": "code",
   "execution_count": null,
   "metadata": {},
   "outputs": [],
   "source": [
    "plot_comparison([inv_y_gru[0:300], inv_yhat_gru[0:300]], \n",
    "                ['Test_Y value', 'Predicted Value'], \n",
    "                title='Prediction Comparison  of the first 300 Observations')"
   ]
  },
  {
   "cell_type": "code",
   "execution_count": null,
   "metadata": {},
   "outputs": [],
   "source": [
    "plot_comparison([inv_y_gru[5500:5800], inv_yhat_gru[5500:5800]], \n",
    "                ['Test_Y value', 'Predicted Value'], \n",
    "                title='Prediction Comparison of a Farthest 300 Observations')"
   ]
  },
  {
   "cell_type": "markdown",
   "metadata": {},
   "source": [
    "### Long-Short Term Memory (LSTM)\n",
    "<a id='lstm'></a>\n",
    "\n",
    "Now **you** are going to build the model based on LSTM. Like GRU, we are going use the following components from Keras:\n",
    "\n",
    " - [Sequencial](https://keras.io/models/sequential/): allows us to create models layer-by-layer. \n",
    " - [LSTM](https://keras.io/layers/recurrent/): provides a LSTM architecture\n",
    " - [Dense](https://keras.io/layers/core/): provides a regular fully-connected layer\n",
    " - [Activation](https://keras.io/activations/): defines the activation function to be used\n",
    "\n",
    "Basically, you are going to define the sequence of the model by using _Sequential()_:\n",
    "\n",
    "```python\n",
    "    model = Sequential()\n",
    "    model.add(LSTM(...))\n",
    "    ...\n",
    "```\n",
    "\n",
    "and configure the training by using the function [compile](https://keras.io/models/model/):\n",
    "\n",
    "```python\n",
    "    model.compile(loss = \"...\", \n",
    "                  optimizer = \"...\")\n",
    "```\n",
    "\n",
    "Follow the below steps for this task."
   ]
  },
  {
   "cell_type": "markdown",
   "metadata": {},
   "source": [
    "**Step 1**: Create the model:\n",
    " 1) Define the number of layers (we suggest at this stage to use just one, but it is up to you)\n",
    " 2) Create the fully connected layer\n",
    "    \n",
    "For example:\n",
    "\n",
    "```python\n",
    "# Define the model.\n",
    "model_lstm = Sequential()\n",
    "\n",
    "# Stacking just one LSTM\n",
    "model_lstm.add(LSTM(input_shape=(train_X.shape[1], train_X.shape[2]), \n",
    "                        units = 128, \n",
    "                        return_sequences = False))\n",
    "\n",
    "# Fully connected layer\n",
    "model_lstm.add(Dense(units=1)) \n",
    "\n",
    "```"
   ]
  },
  {
   "cell_type": "markdown",
   "metadata": {},
   "source": [
    "**Step 2**: Configure the training:\n",
    " 1) Define the loss function (e.g., 'mae' for mean average error or 'mse' for mean squared error)\n",
    " 2) Define the optimiser (e.g., 'adam', 'rmsprop',  'sgd', 'adagrad, etc)\n",
    "    \n",
    "For example:\n",
    "\n",
    "```python\n",
    "model_lstm.compile(loss = \"mae\", \n",
    "                  optimizer = \"adam\")\n",
    "\n",
    "```"
   ]
  },
  {
   "cell_type": "code",
   "execution_count": null,
   "metadata": {},
   "outputs": [],
   "source": []
  },
  {
   "cell_type": "markdown",
   "metadata": {},
   "source": [
    "**Step 3:** Call the function \n",
    "```python\n",
    "model_lstm.summary()\n",
    "```\n",
    "to summarise the model."
   ]
  },
  {
   "cell_type": "code",
   "execution_count": null,
   "metadata": {},
   "outputs": [],
   "source": []
  },
  {
   "cell_type": "markdown",
   "metadata": {},
   "source": [
    "**Step 4:** Defined the number of epochs, validation_split and batch_size that best fit for you model and call the function fit to train the model.\n",
    "\n",
    "For example:\n",
    "```python\n",
    "hist_lstm = model_lstm.fit(train_X, train_y, \n",
    "                           epochs=50, \n",
    "                           batch_size=256, \n",
    "                           validation_split = 0.1,\n",
    "                           verbose=1, shuffle=False) \n",
    "```"
   ]
  },
  {
   "cell_type": "code",
   "execution_count": null,
   "metadata": {},
   "outputs": [],
   "source": []
  },
  {
   "cell_type": "markdown",
   "metadata": {},
   "source": [
    "#### Using the history \n",
    "\n",
    "Here we can see if the model overfits or underfits"
   ]
  },
  {
   "cell_type": "code",
   "execution_count": null,
   "metadata": {},
   "outputs": [],
   "source": [
    "plot_loss(hist_lstm)"
   ]
  },
  {
   "cell_type": "code",
   "execution_count": null,
   "metadata": {},
   "outputs": [],
   "source": [
    "yhat_lstm = model_lstm.predict(test_X)\n",
    "\n",
    "# performing the inverse transform on test_X and yhat_rnn\n",
    "inv_y_lstm, inv_yhat_lstm = inverse_transform_multiple(test_X, test_y, yhat_lstm, scaler, n_in, n_features)\n",
    "\n",
    "# calculate RMSE\n",
    "mse_lstm = mean_squared_error(inv_y_lstm, inv_yhat_lstm)\n",
    "print('Test MSE: %.3f' % mse_lstm)"
   ]
  },
  {
   "cell_type": "markdown",
   "metadata": {},
   "source": [
    "### Visualising the predicted Data"
   ]
  },
  {
   "cell_type": "code",
   "execution_count": null,
   "metadata": {},
   "outputs": [],
   "source": [
    "plot_comparison([inv_y_lstm, inv_yhat_lstm], \n",
    "                ['Test_Y value','Predicted Value'], \n",
    "                title='Prediction Comparison')"
   ]
  },
  {
   "cell_type": "code",
   "execution_count": null,
   "metadata": {},
   "outputs": [],
   "source": [
    "plot_comparison([inv_y_lstm[0:300], inv_yhat_lstm[0:300]], \n",
    "                ['Test_Y value', 'Predicted Value'], \n",
    "                title='Prediction Comparison  of first 300 Observations')"
   ]
  },
  {
   "cell_type": "code",
   "execution_count": null,
   "metadata": {},
   "outputs": [],
   "source": [
    "plot_comparison([inv_y_lstm[5500:5800], inv_yhat_lstm[5500:5800]], \n",
    "                ['Test_Y value', 'Predicted Value'], \n",
    "                title='Prediction Comparison of a Farthest 300 Observations')"
   ]
  },
  {
   "cell_type": "markdown",
   "metadata": {},
   "source": [
    "## Models comparison\n",
    "\n",
    "**Exercise**: run the code below and discuss the results."
   ]
  },
  {
   "cell_type": "code",
   "execution_count": null,
   "metadata": {},
   "outputs": [],
   "source": [
    "plot_comparison([inv_y_lstm[0:300],\n",
    "                 inv_yhat_gru[0:300], inv_yhat_lstm[0:300]], \n",
    "                ['Original', 'GRU', 'LSTM'], \n",
    "                title='Prediction Comparison  of the First 300 Observations')"
   ]
  },
  {
   "cell_type": "code",
   "execution_count": null,
   "metadata": {},
   "outputs": [],
   "source": [
    "plot_comparison([inv_y_lstm[5500:5800], \n",
    "                 inv_yhat_gru[5500:5800], inv_yhat_lstm[5500:5800]], \n",
    "                ['Original', 'GRU', 'LSTM'], \n",
    "                title='Prediction Comparison of a Farthest 300 Observations')"
   ]
  },
  {
   "cell_type": "code",
   "execution_count": null,
   "metadata": {},
   "outputs": [],
   "source": [
    "print('Comparing the MSE of the three models:')\n",
    "print('  GRU: ', mse_gru)\n",
    "print('  LSTM: ', mse_lstm)"
   ]
  },
  {
   "cell_type": "code",
   "execution_count": null,
   "metadata": {},
   "outputs": [],
   "source": []
  }
 ],
 "metadata": {
  "@webio": {
   "lastCommId": null,
   "lastKernelId": null
  },
  "kernelspec": {
   "display_name": "Python 3 (ipykernel)",
   "language": "python",
   "name": "python3"
  },
  "language_info": {
   "codemirror_mode": {
    "name": "ipython",
    "version": 3
   },
   "file_extension": ".py",
   "mimetype": "text/x-python",
   "name": "python",
   "nbconvert_exporter": "python",
   "pygments_lexer": "ipython3",
   "version": "3.7.11"
  },
  "toc": {
   "base_numbering": 1,
   "nav_menu": {},
   "number_sections": true,
   "sideBar": true,
   "skip_h1_title": true,
   "title_cell": "Table of Contents",
   "title_sidebar": "Contents",
   "toc_cell": false,
   "toc_position": {},
   "toc_section_display": true,
   "toc_window_display": false
  }
 },
 "nbformat": 4,
 "nbformat_minor": 2
}
