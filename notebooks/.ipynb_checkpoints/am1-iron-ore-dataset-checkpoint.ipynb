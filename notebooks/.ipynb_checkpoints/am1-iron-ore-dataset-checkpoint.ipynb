{
 "cells": [
  {
   "cell_type": "markdown",
   "metadata": {},
   "source": [
    "# Iron Ore Dataset\n",
    "\n",
    "In this notebook we are going to use the dataset **Iron Ore** explored in week **05-simple-predictions** to illustrate a simple Deep Artificial Neural Network and discuss some of its disatvantages. \n",
    "     \n",
    "As this dataset is not for classification, we borrow from week **05-simple-predictions** the code below to transform the problem into a classification problem:\n",
    "\n",
    "```python\n",
    "# Splits from oscar Fe>60%, SiO2<9, Al2O3<2, P<0.08\n",
    "split_points = [\n",
    "    ('FE', 60, [False, True]),\n",
    "    ('SIO2', 9, [True, False]),\n",
    "    ('AL2O3', 2, [True, False]),\n",
    "    ('P', 0.08, [True, False]),  \n",
    "]\n",
    "\n",
    "# It's ore if everything is True\n",
    "df['is_ore'] = np.vstack([\n",
    "    pandas.cut(df[elem], bins=[0, split, 100], labels=is_ore)\n",
    "    for elem, split, \n",
    "```\n",
    "\n",
    "In order to have a clean notebook, some functions are implemented in the file *utils.py* (e.g., plot_decision_boundary). We are not going to discuss the implementation aspects of these functions as it is not the scope, but you can to explore and read the content of the functions later on.\n",
    "\n",
    "Summary:\n",
    " - [Data Pre-processing](#preprocessing)\n",
    " - [Building the DNN](#dnn)\n",
    "     - [Training the Model](#train)\n",
    "     - [Prediction and Performance Analysis](#performance)\n",
    "     \n",
    "__All the libraries used in this notebook are <font color='red'>Open Source</font>__."
   ]
  },
  {
   "cell_type": "markdown",
   "metadata": {},
   "source": [
    "## Data Pre-processing\n",
    "<a id=preprocessing></ad>"
   ]
  },
  {
   "cell_type": "code",
   "execution_count": 1,
   "metadata": {},
   "outputs": [
    {
     "name": "stderr",
     "output_type": "stream",
     "text": [
      "Using TensorFlow backend.\n"
     ]
    }
   ],
   "source": [
    "# Standard libraries\n",
    "import numpy as np  # written in C, is faster and robust library for numerical and matrix operations\n",
    "import pandas as pd # data manipulation library, it is widely used for data analysis and relies on numpy library.\n",
    "import matplotlib.pyplot as plt # for plotting\n",
    "import seaborn as sns # Plot nicely =) . Importing seaborn modifies the default matplotlib color schemes and plot \n",
    "                      # styles to improve readability and aesthetics.\n",
    "\n",
    "# Auxiliar functions\n",
    "from utils import *\n",
    "\n",
    "from sklearn.model_selection import train_test_split #split arrays or matrices into random train and test subsets\n",
    "from sklearn.preprocessing import StandardScaler #Standardize features by removing the mean and scaling to unit variance\n",
    "\n",
    "# the following to lines will tell to the python kernel to always update the kernel for every utils.py\n",
    "# modification, without the need of restarting the kernel.\n",
    "%load_ext autoreload\n",
    "%autoreload 2\n",
    "\n",
    "# using the 'inline' backend, your matplotlib graphs will be included in your notebook, next to the code\n",
    "%matplotlib inline"
   ]
  },
  {
   "cell_type": "markdown",
   "metadata": {},
   "source": [
    "We are going to use [Pandas](https://pandas.pydata.org/) for the data processing. The function  [read_csv](https://pandas.pydata.org/pandas-docs/stable/generated/pandas.read_csv.html) is going to be used to read the csv file."
   ]
  },
  {
   "cell_type": "code",
   "execution_count": 2,
   "metadata": {},
   "outputs": [],
   "source": [
    "# reading dataset\n",
    "df = pd.read_csv('../data/iron_ore_study.csv')\n",
    "\n",
    "# Splits from oscar Fe>60%, SiO2<9, Al2O3<2, P<0.08\n",
    "split_points = [\n",
    "    ('FE', 60, [False, True]),\n",
    "    ('SIO2', 9, [True, False]),\n",
    "    ('AL2O3', 2, [True, False]),\n",
    "    ('P', 0.08, [True, False]),  \n",
    "]\n",
    "\n",
    "# It's ore if everything is True\n",
    "df['is_ore'] = np.vstack([\n",
    "    pd.cut(df[elem], bins=[0, split, 100], labels=is_ore)\n",
    "    for elem, split, is_ore in split_points\n",
    "]).sum(axis=0) == 4\n",
    "\n",
    "y = df.is_ore # set the variable 'y' to store the labels\n",
    "# removing is_ore from the dataframe \n",
    "list = ['is_ore']\n",
    "df = df.drop(list,axis = 1 )\n",
    "\n",
    "# split data train 70% and test 30%. You can try other splits here.\n",
    "x_train, x_test, y_train, y_test = train_test_split(df, y, test_size=0.3, \n",
    "                                                    random_state=42)\n",
    "\n",
    "y_train = y_train.values # converting to numpy array\n",
    "y_test = y_test.values # converting to numpy array\n",
    "\n",
    "# normalising the data\n",
    "scaler = StandardScaler()\n",
    "scaler.fit(x_train) # not considering the label is_ore\n",
    "x_train_scaled = scaler.transform(x_train)\n",
    "\n",
    "x_test_scaled = scaler.transform(x_test)"
   ]
  },
  {
   "cell_type": "markdown",
   "metadata": {},
   "source": [
    "Here we transform this dataset into a classification task using the strategy adopted in week **02-simple-predictions**."
   ]
  },
  {
   "cell_type": "code",
   "execution_count": 3,
   "metadata": {},
   "outputs": [
    {
     "name": "stdout",
     "output_type": "stream",
     "text": [
      "<class 'numpy.ndarray'> <class 'numpy.ndarray'>\n",
      "(2450, 4)\n"
     ]
    }
   ],
   "source": [
    "print(type(x_train_scaled), type(x_test_scaled))\n",
    "print(x_train_scaled.shape)"
   ]
  },
  {
   "cell_type": "markdown",
   "metadata": {},
   "source": [
    "## Building the Deep Neural Network\n",
    "<a id=dnn></a>\n",
    "\n",
    "We are going to use [Keras](https://keras.io/) to build our first Deep Neural Network. It is a high-level API for deep learning, which is a wrapper of TensorFlow, CNTK, or Theano. Keras was developed with a focus on enabling fast experimentation, which makes this framework easy to use and learn deep learning.\n",
    "\n",
    "To build the model, we will use the following components from Keras:\n",
    "\n",
    " - [Sequencial](https://keras.io/models/sequential/): allows us to create models layer-by-layer. \n",
    " - [Dense](https://keras.io/layers/core/#dense): provides a regular fully-connected layer\n",
    " - [Dropout](https://keras.io/layers/core/#dropout): provides dropout regularisation\n",
    "\n",
    "Basically, we are going to define the sequence of our model by using _Sequential()_, which include the layers:\n",
    "\n",
    "```python\n",
    "    model = Sequential()\n",
    "    model.add(Dense(...))\n",
    "    ...\n",
    "```\n",
    "once created the model we can configure the model for training using the method [compile](https://keras.io/models/model/). Here we need to define the [loss](https://keras.io/losses/) function (mean squared error, mean absolute error, cosine proximity, categorical cross entropy, among others.), the [optimizer](https://keras.io/optimizers/) (Stochastic gradient descent, RMSprop, adam, among others) and the [metric](https://keras.io/metrics/) to define the evaluation metric to be used to evaluate the performance of the model in the training step, as follows:\n",
    "\n",
    "```python\n",
    "    model.compile(loss = \"...\", \n",
    "                  optimizer = \"...\")\n",
    "```\n",
    "\n",
    "Also, we have the option to see a summary representation of the model by using the function [summary](https://keras.io/models/about-keras-models/#about-keras-models). This function summarises the model and tell us the number of parameters that we need to tune."
   ]
  },
  {
   "cell_type": "code",
   "execution_count": 4,
   "metadata": {},
   "outputs": [],
   "source": [
    "from keras.models import Sequential # implements sequential function\n",
    "from keras.layers import Dense # implements the fully connected layer\n",
    "from keras.layers import Dropout # implements Dropout regularisation"
   ]
  },
  {
   "cell_type": "code",
   "execution_count": 5,
   "metadata": {},
   "outputs": [],
   "source": [
    "# Define the model.\n",
    "model = Sequential()\n",
    "\n",
    "# Dense layer (fully connected)\n",
    "# First layer:\n",
    "#  we need to define the input shape, which is the same of the shape of the training set\n",
    "#  which is 4\n",
    "#  128 neurons\n",
    "#  relu for activation function\n",
    "model.add(Dense(128, input_shape=(x_train_scaled.shape[1],), activation='relu', name='first_layer'))\n",
    "\n",
    "# Regularisation:\n",
    "#  Dropout consists in randomly setting a fraction rate of input units to \n",
    "#  0 at each update during training time, which helps prevent overfitting.\n",
    "#  for this model, we are going to define a rate equal 60% (0.6)\n",
    "model.add(Dropout(0.6))\n",
    "\n",
    "# second layer: output, \n",
    "#  one neuron (binary output)\n",
    "#  sigmoid for activation function\n",
    "model.add(Dense(1, activation='sigmoid', name='output_layer'))\n",
    "\n",
    "# Compile:\n",
    "#  Optimiser: adam\n",
    "#  Loss: binary_crossentropy, as our problem is binary classification (is_ore or not is_ore)\n",
    "#  Metric: binary_accuracy\n",
    "model.compile(optimizer='adam', \n",
    "              loss='binary_crossentropy',\n",
    "              metrics=['binary_accuracy'])"
   ]
  },
  {
   "cell_type": "code",
   "execution_count": 6,
   "metadata": {},
   "outputs": [
    {
     "name": "stdout",
     "output_type": "stream",
     "text": [
      "_________________________________________________________________\n",
      "Layer (type)                 Output Shape              Param #   \n",
      "=================================================================\n",
      "first_layer (Dense)          (None, 128)               640       \n",
      "_________________________________________________________________\n",
      "dropout_1 (Dropout)          (None, 128)               0         \n",
      "_________________________________________________________________\n",
      "output_layer (Dense)         (None, 1)                 129       \n",
      "=================================================================\n",
      "Total params: 769\n",
      "Trainable params: 769\n",
      "Non-trainable params: 0\n",
      "_________________________________________________________________\n"
     ]
    }
   ],
   "source": [
    "model.summary()"
   ]
  },
  {
   "cell_type": "markdown",
   "metadata": {},
   "source": [
    "We have 769 parameters to be tuned. The first layer (first_layer) has 640 parameters, given by:\n",
    "\n",
    "$$\\#first\\_layer =  input\\_shape * W_1 + b_1$$\n",
    "where input_shape is given by the features (FE, SIO2, AL203 and P), $W_1$ are the weights in the first layer and $b_1$ is the bias shape, so we have:\n",
    "\n",
    "$$\\#first\\_layer =  4 * 128 + 128 = 640$$\n",
    "\n",
    "The second layer (output_layer) has 129 paramers, given by: \n",
    "\n",
    "$$\\#output\\_layer =  \\#W_1 * W_2 + b_2$$\n",
    "where $\\#W_1$ is the shape of the *first_layer*, $W_2$ are the weights in the second layer and $b_2$ is the bias shape, so we have:\n",
    "\n",
    "$$\\#output\\_layer =  128 * 1 + 1 = 129$$"
   ]
  },
  {
   "cell_type": "markdown",
   "metadata": {},
   "source": [
    "### Training the Model\n",
    "<a id=train></a>\n",
    "\n",
    "Once defined the model, we need to train it by using the function [fit](https://keras.io/models/model/). This function performs the optmisation step. Hence, we can define the following parameters such as:\n",
    "\n",
    " - batch size: defines the number of samples that will be propagated through the network.\n",
    " - epochs: defines the number of times in which all the training set (x_train_scaled) are used once to update the weights.\n",
    " - validation split: defines the percentage of training data to be used for validation\n",
    " - among others (click [here](https://keras.io/models/model/) for more information)\n",
    " \n",
    "This function return the _history_ of the training, that can be used for further performance analysis."
   ]
  },
  {
   "cell_type": "code",
   "execution_count": 7,
   "metadata": {},
   "outputs": [],
   "source": [
    "# training the model\n",
    "batch_size = 128 \n",
    "n_epochs = 150\n",
    "history = model.fit(x_train_scaled,  #training set\n",
    "                    y_train, # labels\n",
    "                    batch_size = batch_size,\n",
    "                    epochs = n_epochs,\n",
    "                    validation_split = 0.2, # 20% percent for validation and 80% for training\n",
    "                    verbose = 0 # muting the output, you can set this to 1 (default) to get insights \n",
    "                                # about the loss and accuracy for every epoch\n",
    "                   )\n"
   ]
  },
  {
   "cell_type": "markdown",
   "metadata": {},
   "source": [
    "### Prediction and Performance Analysis\n",
    "<a id='performance'></a>\n",
    "\n",
    "Here we can see if the model overfits or underfits. First, we are going to plot the 'loss' and the 'Accuracy' from the training step."
   ]
  },
  {
   "cell_type": "code",
   "execution_count": 8,
   "metadata": {},
   "outputs": [
    {
     "data": {
      "image/png": "[encoded data removed]",
      "text/plain": [
       "<Figure size 1008x288 with 2 Axes>"
      ]
     },
     "metadata": {
      "needs_background": "light"
     },
     "output_type": "display_data"
    }
   ],
   "source": [
    "plot_loss_and_accuracy(history=history)"
   ]
  },
  {
   "cell_type": "markdown",
   "metadata": {},
   "source": [
    "**Question**: Does the model overfits or underfits?"
   ]
  },
  {
   "cell_type": "markdown",
   "metadata": {},
   "source": []
  },
  {
   "cell_type": "markdown",
   "metadata": {},
   "source": [
    "Once the model was trained, we can use function [predict_classes](https://keras.io/models/model/) to do some predictions and evaluate the performance of the model. As we saw in the last week, the performance assessment of the classifiers is **extremely important** in practice, as this provide insights of how the classifier performs on new data, which measures the **generalisation error**."
   ]
  },
  {
   "cell_type": "code",
   "execution_count": 9,
   "metadata": {},
   "outputs": [],
   "source": [
    "predictions = model.predict_classes(x_test_scaled, batch_size=batch_size) # predict the classes\n",
    "pred = predictions.ravel() # Return a contiguous flattened array, in this case a 1-D array, containing the elements of the \n",
    "                           # predictions.\n",
    "pred = pred.astype(dtype=np.bool) # if nedeed, we can define the type of the array as boolean."
   ]
  },
  {
   "cell_type": "code",
   "execution_count": 10,
   "metadata": {},
   "outputs": [
    {
     "name": "stdout",
     "output_type": "stream",
     "text": [
      "F1-score:  0.9992509363295881\n"
     ]
    }
   ],
   "source": [
    "# we are going to use F-measure to evaluate the performance\n",
    "from sklearn.metrics import f1_score # computes the f1 score\n",
    "\n",
    "# we are using prediction computed previsously\n",
    "f1_score_knn = f1_score(y_test, pred)\n",
    "print('F1-score: ', f1_score_knn)"
   ]
  },
  {
   "cell_type": "markdown",
   "metadata": {},
   "source": [
    "Another way to evaluate the model is by using the function [evaluate](https://keras.io/models/model/) provided by keras. This return the loss value & metrics values for the model in test mode. The metrics used is the same define in the **fit** function, in which this case is \"binary_accuracy\"."
   ]
  },
  {
   "cell_type": "code",
   "execution_count": 11,
   "metadata": {},
   "outputs": [
    {
     "name": "stdout",
     "output_type": "stream",
     "text": [
      "Loss value:  0.03694648583020483\n",
      "Binary acurracy value:  0.9990476190476191\n"
     ]
    }
   ],
   "source": [
    "loss_value, acc_value = model.evaluate(x_test_scaled, y_test, verbose=0)\n",
    "print('Loss value: ', loss_value)\n",
    "print('Binary acurracy value: ', acc_value)"
   ]
  },
  {
   "cell_type": "markdown",
   "metadata": {},
   "source": [
    "**Your turn**\n",
    "\n",
    "1) Evaluate the performance of the model by changing the \"activation function\". Here you can try \"sigmoid\" or \"tanh\".\n",
    "\n",
    "For example:\n",
    "```python\n",
    "model.add(Dense(128, input_shape=(x_train_scaled.shape[1],), activation='sigmoid', name='first_layer'))\n",
    "```\n",
    "\n",
    "You will need to create a new model, compile it and fit it."
   ]
  },
  {
   "cell_type": "code",
   "execution_count": null,
   "metadata": {},
   "outputs": [],
   "source": []
  },
  {
   "cell_type": "markdown",
   "metadata": {},
   "source": [
    "2) Evaluate the performance of the model by changing the number of neurons in the first layer. \n",
    "\n",
    "For example:\n",
    "```python\n",
    "model.add(Dense(64, input_shape=(x_train_scaled.shape[1],), activation='...', name='first_layer'))\n",
    "```\n",
    "\n",
    "You will need to create a new model, compile it and fit it."
   ]
  },
  {
   "cell_type": "code",
   "execution_count": null,
   "metadata": {},
   "outputs": [],
   "source": []
  },
  {
   "cell_type": "markdown",
   "metadata": {},
   "source": [
    "3) Create a new DNN model, a deepest one (more layers) and evaluate its performance. \n",
    "\n",
    "    3.1) Create the model\n",
    "\n",
    "For example:\n",
    "```python\n",
    "# Define the model.\n",
    "dnn = Sequential()\n",
    "\n",
    "# layer 1\n",
    "dnn.add(Dense(128, input_shape=(x_train_scaled.shape[1],), activation='relu', name='first_layer'))\n",
    "dnn.add(Dropout(0.6))\n",
    "\n",
    "# layer 2\n",
    "dnn.add(Dense(256, activation='relu', name='second_layer'))\n",
    "dnn.add(Dropout(0.6))\n",
    "\n",
    "# layer 3\n",
    "dnn.add(Dense(128, activation='relu', name='third_layer'))\n",
    "dnn.add(Dropout(0.6))\n",
    "\n",
    "# output layer\n",
    "dnn.add(Dense(1, activation='sigmoid', name='output_layer'))\n",
    "```"
   ]
  },
  {
   "cell_type": "code",
   "execution_count": null,
   "metadata": {},
   "outputs": [],
   "source": []
  },
  {
   "cell_type": "markdown",
   "metadata": {},
   "source": [
    "\n",
    "  3.2) Try other optimisers ('rmsprop', 'sgd', 'adagrad' or 'adadelta' if you wich), loss and metrics\n",
    "  \n",
    "For example:  \n",
    "```python    \n",
    "dnn.compile(optimizer='adam', \n",
    "            loss='binary_crossentropy',\n",
    "            metrics=['binary_accuracy'])\n",
    "```"
   ]
  },
  {
   "cell_type": "code",
   "execution_count": null,
   "metadata": {},
   "outputs": [],
   "source": []
  },
  {
   "cell_type": "markdown",
   "metadata": {},
   "source": [
    "\n",
    "  3.3) Summarize the model by using.\n",
    "```python\n",
    "dnn.summary()\n",
    "```"
   ]
  },
  {
   "cell_type": "code",
   "execution_count": null,
   "metadata": {},
   "outputs": [],
   "source": []
  },
  {
   "cell_type": "markdown",
   "metadata": {},
   "source": [
    "\n",
    "\n",
    "  3.4) Train the model, here you can define the number of epochs and batch_size that best fit for you model\n",
    "\n",
    "For example:  \n",
    "```python \n",
    "batch_size = 32 \n",
    "n_epochs = 20\n",
    "history = dnn.fit(x_train_scaled,  \n",
    "                    y_train, \n",
    "                    batch_size = batch_size,\n",
    "                    epochs = n_epochs,\n",
    "                    validation_split = 0.1, # 10% percent for validation and 80% for training\n",
    "                    verbose = 0\n",
    "                   )\n",
    "```"
   ]
  },
  {
   "cell_type": "code",
   "execution_count": null,
   "metadata": {},
   "outputs": [],
   "source": []
  },
  {
   "cell_type": "markdown",
   "metadata": {},
   "source": [
    "\n",
    "  3.5) Evaluate the model performance by using the metric that you think is the best.\n",
    "\n",
    "For example:  \n",
    "```python \n",
    "loss_value, acc_value = dnn.evaluate(x_test_scaled, y_test, verbose=0)\n",
    "print('Loss value: ', loss_value)\n",
    "print('Binary acurracy value: ', loss_value)\n",
    "```\n",
    "\n",
    "Plot the loss and accuracy if you which."
   ]
  },
  {
   "cell_type": "code",
   "execution_count": null,
   "metadata": {},
   "outputs": [],
   "source": []
  },
  {
   "cell_type": "code",
   "execution_count": null,
   "metadata": {},
   "outputs": [],
   "source": []
  }
 ],
 "metadata": {
  "kernelspec": {
   "display_name": "Python 3",
   "language": "python",
   "name": "python3"
  },
  "language_info": {
   "codemirror_mode": {
    "name": "ipython",
    "version": 3
   },
   "file_extension": ".py",
   "mimetype": "text/x-python",
   "name": "python",
   "nbconvert_exporter": "python",
   "pygments_lexer": "ipython3",
   "version": "3.7.6"
  }
 },
 "nbformat": 4,
 "nbformat_minor": 2
}
